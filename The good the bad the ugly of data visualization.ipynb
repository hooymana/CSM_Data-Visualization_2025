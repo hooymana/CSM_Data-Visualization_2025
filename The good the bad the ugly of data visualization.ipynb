{
    "cells": [
        {
            "cell_type": "markdown",
            "metadata": {},
            "source": [
                "[![Open in Colab](https://colab.research.google.com/assets/colab-badge.svg)](https://colab.research.google.com/github/hooymana/CSM_Data-Visualization_2025/blob/main/The%20good%20the%20bad%20the%20ugly%20of%20data%20visualization.ipynb)\n",
                "\n",
                "\n",
                "## Data Visualization for communication\n",
                "\n",
                "The purpose of a data visualization in a scientific article should be to convey \n",
                "1. Measures of Central Tendency\n",
                "2. Measures of Dispersion\n",
                "3. Linear Trends\n"
            ]
        },
        {
            "cell_type": "code",
            "execution_count": null,
            "metadata": {},
            "outputs": [],
            "source": [
                "library(cowplot)\n",
                "library(ggplot2)\n",
                "library(ggpubr)\n",
                "library(gghalves)\n",
                "library(gtsummary)\n",
                "\n",
                "library(RCurl)\n",
                "x <- getURL("https://github.com/hooymana/CSM_Data-Visualization_2025/blob/main/healthcare-dataset-stroke-data.csv")\n",
                "data <- read.csv(text = x,na.strings = "N/A")\n",
                "\n",
                "tbl_summary(data[,-1],\n",
                "            statistic = list(\n",
                "              all_continuous() ~ \"{mean} ({sd})\", \n",
                "                 all_categorical() ~ \"{n} ({p}%)\"),\n",
                "            digits = all_continuous() ~ 2, \n",
                "               missing = \"ifany\"\n",
                "            ) %>%\n",
                "  bold_labels()\n"
            ]
        },
        {
            "cell_type": "markdown",
            "metadata": {},
            "source": [
                "## Graph from \"A Simple Start\" Slide\n",
                "\n"
            ]
        },
        {
            "cell_type": "code",
            "execution_count": null,
            "metadata": {},
            "outputs": [],
            "source": [
                "#Basic Bar Graph\n",
                "ggplot(data,aes(x=gender,y=age))+\n",
                "  stat_summary(fun=\"mean\",geom=\"bar\")+\n",
                "  xlab(\"Gender\")+\n",
                "  ylab(\"Age (Years)\")\n"
            ]
        },
        {
            "cell_type": "markdown",
            "metadata": {},
            "source": [
                "## Graph from \"Box it Out\" Slide\n",
                "\n"
            ]
        },
        {
            "cell_type": "code",
            "execution_count": null,
            "metadata": {},
            "outputs": [],
            "source": [
                "#Boxplot\n",
                "ggplot(data,aes(x=gender,y=age))+\n",
                "  geom_boxplot()+\n",
                "  xlab(\"Gender\")+\n",
                "  ylab(\"Age (Years)\")\n"
            ]
        },
        {
            "cell_type": "markdown",
            "metadata": {},
            "source": [
                "## Graph from \"Layer it up\" Slide\n",
                "\n"
            ]
        },
        {
            "cell_type": "code",
            "execution_count": null,
            "metadata": {},
            "outputs": [],
            "source": [
                "#Boxplot + dotplot\n",
                "ggplot(data,aes(x=gender,y=age))+\n",
                "  geom_boxplot()+\n",
                "  geom_dotplot(stackdir = \"center\",binaxis = \"y\",binwidth = 1/3)+\n",
                "  xlab(\"Gender\")+\n",
                "  ylab(\"Age (Years)\")\n"
            ]
        },
        {
            "cell_type": "markdown",
            "metadata": {},
            "source": [
                "## Graph from \"Flip it out\" Slide\n",
                "\n"
            ]
        },
        {
            "cell_type": "code",
            "execution_count": null,
            "metadata": {},
            "outputs": [],
            "source": [
                "#Rain cloud plot\n",
                "ggplot(data,aes(x=gender,y=age))+\n",
                "  #geom_half_boxplot(side=\"l\",errorbar.length = 1)+\n",
                "  geom_half_violin(side=\"r\")+\n",
                "  geom_half_boxplot(side=\"l\")+\n",
                "  geom_half_dotplot(stackdir = \"down\",binwidth=1/3,alpha=.25)+\n",
                "  xlab(\"Gender\")+\n",
                "  ylab(\"Age (Years)\")+\n",
                "  coord_flip()\n"
            ]
        },
        {
            "cell_type": "markdown",
            "metadata": {},
            "source": [
                "## Graph from \"Visual of Sub-groups\" Slide\n",
                "\n"
            ]
        },
        {
            "cell_type": "code",
            "execution_count": null,
            "metadata": {},
            "outputs": [],
            "source": [
                "#Rain cloud plot, stratified by smoking status (color)\n",
                "library(RColorBrewer) #customize your colors\n",
                "ggplot(data,aes(x=gender,y=age))+\n",
                "  geom_half_violin(side=\"r\",aes(fill=smoking_status),color=\"black\")+\n",
                "  geom_half_boxplot(side=\"l\",show.legend = F,aes(color=smoking_status))+\n",
                "  geom_half_dotplot(stackdir = \"down\",binwidth=1/3,alpha=.5,show.legend = F,aes(color=smoking_status))+\n",
                "  scale_fill_manual(values = brewer.pal(4,\"BuPu\"))+\n",
                "  scale_color_manual(values = brewer.pal(4,\"BuPu\"))+\n",
                "  xlab(\"Gender\")+\n",
                "  ylab(\"Age (Years)\")+\n",
                "  coord_flip()+\n",
                "  labs(fill=\"Smoking Status\")\n"
            ]
        },
        {
            "cell_type": "markdown",
            "metadata": {},
            "source": [
                "## Graph from \"Visual of Sub-groups\" Slide 2\n",
                "\n"
            ]
        },
        {
            "cell_type": "code",
            "execution_count": null,
            "metadata": {},
            "outputs": [],
            "source": [
                "#Rain cloud plot, stratified by smoking status (color), coordinates flipped\n",
                "ggplot(data,aes(x=gender,y=age,color=smoking_status))+\n",
                "  geom_half_violin(side=\"r\",aes(fill=smoking_status),color=\"black\")+\n",
                "  geom_half_boxplot(side=\"l\",show.legend = F,aes(color=smoking_status))+\n",
                "  geom_half_dotplot(stackdir = \"down\",binwidth=1.25,alpha=.5,show.legend = F,aes(color=smoking_status))+\n",
                "  scale_fill_manual(values = brewer.pal(4,\"BuPu\"))+\n",
                "  scale_color_manual(values = brewer.pal(4,\"BuPu\"))+\n",
                "  xlab(\"Gender\")+\n",
                "  ylab(\"Age (Years)\")+\n",
                "  coord_flip()+\n",
                "  facet_grid(~smoking_status)+\n",
                "  theme(legend.position = \"bottom\")+\n",
                "  labs(fill=\"Smoking Status\")\n"
            ]
        },
        {
            "cell_type": "markdown",
            "metadata": {},
            "source": [
                "## Graph from \"Switching Gears\" Slide\n",
                "\n"
            ]
        },
        {
            "cell_type": "code",
            "execution_count": null,
            "metadata": {},
            "outputs": [],
            "source": [
                "#Basic Scatter plot\n",
                "ggplot(data,aes(x=age,y=avg_glucose_level))+\n",
                "  geom_point()+\n",
                "  xlab(\"Age (Years)\")+\n",
                "  ylab(\"Average Glucose Level\")\n"
            ]
        },
        {
            "cell_type": "markdown",
            "metadata": {},
            "source": [
                "## Graph from \"More Data, More Problems\" Slide\n",
                "\n"
            ]
        },
        {
            "cell_type": "code",
            "execution_count": null,
            "metadata": {},
            "outputs": [],
            "source": [
                "library(ggExtra)\n",
                "#Basic Scatter plot with histograms\n",
                "a=ggplot(data,aes(x=age,y=avg_glucose_level))+\n",
                "  geom_point()+\n",
                "  xlab(\"Age (Years)\")+\n",
                "  ylab(\"Average Glucose Level\")\n",
                "\n",
                "ggMarginal(a,type = \"histogram\")\n"
            ]
        },
        {
            "cell_type": "markdown",
            "metadata": {},
            "source": [
                "## Graph from \"Visualize Linear Trend\" Slide\n",
                "\n"
            ]
        },
        {
            "cell_type": "code",
            "execution_count": null,
            "metadata": {},
            "outputs": [],
            "source": [
                "library(ggExtra)\n",
                "#Basic Scatter plot with histograms, and linear trend\n",
                "b=ggplot(data,aes(x=age,y=avg_glucose_level))+\n",
                "  geom_point(shape=21,color=\"gray50\")+\n",
                "  geom_smooth(method=\"lm\",linewidth=2)+\n",
                "  xlab(\"Age (Years)\")+\n",
                "  ylab(\"Average Glucose Level\")+\n",
                "  theme_classic()\n",
                "  \n",
                "\n",
                "ggMarginal(b,type = \"histogram\")\n"
            ]
        },
        {
            "cell_type": "markdown",
            "metadata": {},
            "source": [
                "## Graph from \"Group Trends\" Slide\n",
                "\n",
                "Here we will fit the linear trends for people with and without stroke as a\n",
                "function of age (independent variable) and average glucose (dependent variable).\n",
                "\n",
                "To do so we must first fit a linear model and then using the resulting model\n",
                "to generate the predicted line across the entire age range of our data.\n"
            ]
        },
        {
            "cell_type": "code",
            "execution_count": null,
            "metadata": {},
            "outputs": [],
            "source": [
                "#Define who does and does not have a stroke (stroke_status)\n",
                "data$stroke_status=ifelse(data$stroke==1,\"Stroke\",\"No Stroke\")\n",
                "\n",
                "#Fit the linear model of age and stroke status to average glucose level.\n",
                "fit=lm(avg_glucose_level~stroke_status+age,data)\n",
                "summary(fit)\n",
                "\n",
                "#create a matrix of \"new data\" that will generate the trend across the entire\n",
                "#age range for people with stroke.\n",
                "new.data=expand.grid(age=c(0:82),\n",
                "                     stroke_status=c(\"Stroke\"))\n",
                "\n",
                "#Generate the standard error for the fitted line using the fitted model (fit)\n",
                "se.fit.s=predict(fit,new.data,se.fit = T)\n",
                "\n",
                "#A little math to generate the confidence interval across the trend\n",
                "new.data$lwr=se.fit.s$fit-(1.96*se.fit.s$se.fit) #lower level\n",
                "new.data$pred=se.fit.s$fit #predict glucose\n",
                "new.data$upr=se.fit.s$fit+(1.96*se.fit.s$se.fit) #upper level\n",
                "\n",
                "#Now let's do the same for people without Stroke.\n",
                "new.data.no=expand.grid(age=c(0:82),\n",
                "                     stroke_status=c(\"No Stroke\"))\n",
                "\n",
                "se.fit=predict(fit,new.data.no,se.fit = T)\n",
                "\n",
                "new.data.no$lwr=se.fit$fit-(1.96*se.fit$se.fit)\n",
                "new.data.no$pred=se.fit$fit\n",
                "new.data.no$upr=se.fit$fit+(1.96*se.fit$se.fit)\n",
                "\n",
                "#We will use these fitted lines for plotting.\n",
                "\n",
                "c=ggplot(data,aes(x=age,y=avg_glucose_level,color=stroke_status))+\n",
                "  geom_point(shape=21,stroke=1.5,alpha=0.1)+\n",
                "  # geom_point(data=data[data$stroke_status==\"Stroke\",],mapping=aes(x=age,y=avg_glucose_level),\n",
                "  #            color=\"#7fbf7b\",shape=21,stroke=1.5,alpha=.75)+\n",
                "  scale_color_manual(values = c(\"#af8dc3\",\"#7fbf7b\"))+\n",
                "  geom_ribbon(new.data,mapping=aes(x=age,ymin = lwr,ymax=upr),\n",
                "              alpha=.1,color=\"#7fbf7b\",inherit.aes = F)+\n",
                "  geom_line(new.data,mapping=aes(x=age,y=pred),size=1.5)+\n",
                "  geom_ribbon(new.data.no,mapping=aes(x=age,ymin = lwr,ymax=upr),\n",
                "              alpha=.1,color=\"#af8dc3\",inherit.aes = F)+\n",
                "  geom_line(new.data.no,mapping=aes(x=age,y=pred),size=1.5)+\n",
                "  xlab(\"Age (Years)\")+\n",
                "  ylab(\"Average Glucose Level\")+\n",
                "  labs(color=\"Stroke Status\")+\n",
                "  theme_classic()+\n",
                "  theme(legend.position = \"bottom\")\n",
                "\n",
                "ggMarginal(c,type = \"density\",groupFill = T)\n",
                "\n",
                "#Pretty good but it's difficult to see the individual data.\n"
            ]
        },
        {
            "cell_type": "markdown",
            "metadata": {},
            "source": [
                "## Graph from \"Group Trends\" Slide 2\n",
                "\n"
            ]
        },
        {
            "cell_type": "code",
            "execution_count": null,
            "metadata": {},
            "outputs": [],
            "source": [
                "d=ggplot(data,aes(x=age,y=avg_glucose_level,color=stroke_status))+\n",
                "  geom_point(shape=21,stroke=1.5,alpha=0.1)+\n",
                "  #Increase the boldness of the stroke data with the aesthetic \"stroke\"\n",
                "  geom_point(data=data[data$stroke_status==\"Stroke\",],mapping=aes(x=age,y=avg_glucose_level),\n",
                "             color=\"#7fbf7b\",shape=21,stroke=1.5,alpha=.75)+\n",
                "  scale_color_manual(values = c(\"#af8dc3\",\"#7fbf7b\"))+\n",
                "  geom_ribbon(new.data,mapping=aes(x=age,ymin = lwr,ymax=upr),\n",
                "              alpha=.1,color=\"#7fbf7b\",inherit.aes = F)+\n",
                "  geom_line(new.data,mapping=aes(x=age,y=pred),size=1.5)+\n",
                "  geom_ribbon(new.data.no,mapping=aes(x=age,ymin = lwr,ymax=upr),\n",
                "              alpha=.1,color=\"#af8dc3\",inherit.aes = F)+\n",
                "  geom_line(new.data.no,mapping=aes(x=age,y=pred),size=1.5)+\n",
                "  xlab(\"Age (Years)\")+\n",
                "  ylab(\"Average Glucose Level\")+\n",
                "  labs(color=\"Stroke Status\")+\n",
                "  theme_classic()+\n",
                "  theme(legend.position = \"bottom\")\n",
                "\n",
                "ggMarginal(d,type = \"density\",groupFill = T)\n"
            ]
        }
    ],
    "metadata": {
        "anaconda-cloud": "",
        "kernelspec": {
            "display_name": "R",
            "langauge": "R",
            "name": "ir"
        },
        "language_info": {
            "codemirror_mode": "r",
            "file_extension": ".r",
            "mimetype": "text/x-r-source",
            "name": "R",
            "pygments_lexer": "r",
            "version": "3.4.1"
        }
    },
    "nbformat": 4,
    "nbformat_minor": 1
}

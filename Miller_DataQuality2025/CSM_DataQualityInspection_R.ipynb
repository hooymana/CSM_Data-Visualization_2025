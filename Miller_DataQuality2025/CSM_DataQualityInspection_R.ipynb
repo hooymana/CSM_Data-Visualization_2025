{
  "nbformat": 4,
  "nbformat_minor": 0,
  "metadata": {
    "colab": {
      "provenance": []
    },
    "kernelspec": {
      "name": "ir",
      "display_name": "R"
    },
    "language_info": {
      "name": "R"
    }
  },
  "cells": [
    {
      "cell_type": "markdown",
      "source": [
        "**Empowering Rehabilitation Researchers through Data Science, Reproducibility, and Data Visualization: Data Management and Quality Control**\n",
        "\n",
        "APTA Combined Sections Meeting, February 2025\n",
        "\n",
        "This code provides an example of how to use data visualization for data inspection and quality control. The data we are working with is from an individual with stroke who wore bilateral wrist sensors for 24 hours. Data were exported in 1-second epochs expressed in ActiGraph activity counts and 30-second epochs expressed in gravitational units. Executing this script requires five files:\n",
        "  \n",
        "\n",
        "*   L_1Hz.csv  [1Hz data from the left sensor]\n",
        "*   R_1Hz.csv  [1Hz data from the right sensor]\n",
        "\n",
        "*   L_30Hz.csv  [30Hz data from the left sensor]\n",
        "*   R_30Hz.csv  [30Hz data from the right sensor]\n",
        "\n",
        "*   ReferentData.csv\n",
        "\n",
        "\n",
        "\n",
        "\n",
        "\n",
        "\n",
        "  \n",
        "  \n",
        "  "
      ],
      "metadata": {
        "id": "sSedU00k15fr"
      }
    },
    {
      "cell_type": "markdown",
      "source": [
        "First, load the R packages required:"
      ],
      "metadata": {
        "id": "FaSIY-KEY21z"
      }
    },
    {
      "cell_type": "code",
      "source": [
        "install.packages(c(\"tidyverse\", \"svDialogs\", \"signal\"))\n",
        "\n",
        "library(\"tidyverse\")\n",
        "library(\"svDialogs\")\n",
        "library(\"signal\")"
      ],
      "metadata": {
        "colab": {
          "base_uri": "https://localhost:8080/"
        },
        "id": "OPJSjngcCUQc",
        "outputId": "95c932e8-9f3d-4306-a2aa-c2e2a899458e",
        "collapsed": true
      },
      "execution_count": 39,
      "outputs": [
        {
          "output_type": "stream",
          "name": "stderr",
          "text": [
            "Installing packages into ‘/usr/local/lib/R/site-library’\n",
            "(as ‘lib’ is unspecified)\n",
            "\n"
          ]
        }
      ]
    },
    {
      "cell_type": "markdown",
      "source": [
        "Next, read in the data files from each sensor"
      ],
      "metadata": {
        "id": "Dp5s9VzQluM0"
      }
    },
    {
      "cell_type": "code",
      "source": [
        "L_1Hz <- read.csv('/L_1Hz.csv')\n",
        "R_1Hz <- read.csv('/R_1Hz.csv')\n",
        "L_30Hz <- read.csv('/L_30Hz.csv')\n",
        "R_30Hz <- read.csv('/R_30Hz.csv')"
      ],
      "metadata": {
        "id": "U7ANxwBPlkRs"
      },
      "execution_count": 44,
      "outputs": []
    },
    {
      "cell_type": "markdown",
      "source": [
        "Preview data files so we know what the data files look like:"
      ],
      "metadata": {
        "id": "eXvCkwrmh3Yw"
      }
    },
    {
      "cell_type": "code",
      "source": [
        "head(L_1Hz)\n",
        "head(R_1Hz)\n",
        "head(L_30Hz)\n",
        "head(R_30Hz)"
      ],
      "metadata": {
        "colab": {
          "base_uri": "https://localhost:8080/",
          "height": 1000
        },
        "collapsed": true,
        "id": "lPG3zTTweuUP",
        "outputId": "9a77983f-6c63-41c6-af53-df30446f6aa8"
      },
      "execution_count": 45,
      "outputs": [
        {
          "output_type": "display_data",
          "data": {
            "text/html": [
              "<table class=\"dataframe\">\n",
              "<caption>A data.frame: 6 × 4</caption>\n",
              "<thead>\n",
              "\t<tr><th></th><th scope=col>TIME</th><th scope=col>X</th><th scope=col>Y</th><th scope=col>Z</th></tr>\n",
              "\t<tr><th></th><th scope=col>&lt;chr&gt;</th><th scope=col>&lt;int&gt;</th><th scope=col>&lt;int&gt;</th><th scope=col>&lt;int&gt;</th></tr>\n",
              "</thead>\n",
              "<tbody>\n",
              "\t<tr><th scope=row>1</th><td>8/17/2023 13:00</td><td>0</td><td>0</td><td>0</td></tr>\n",
              "\t<tr><th scope=row>2</th><td>8/17/2023 13:00</td><td>0</td><td>0</td><td>0</td></tr>\n",
              "\t<tr><th scope=row>3</th><td>8/17/2023 13:00</td><td>0</td><td>0</td><td>0</td></tr>\n",
              "\t<tr><th scope=row>4</th><td>8/17/2023 13:00</td><td>0</td><td>0</td><td>0</td></tr>\n",
              "\t<tr><th scope=row>5</th><td>8/17/2023 13:00</td><td>0</td><td>0</td><td>0</td></tr>\n",
              "\t<tr><th scope=row>6</th><td>8/17/2023 13:00</td><td>0</td><td>0</td><td>0</td></tr>\n",
              "</tbody>\n",
              "</table>\n"
            ],
            "text/markdown": "\nA data.frame: 6 × 4\n\n| <!--/--> | TIME &lt;chr&gt; | X &lt;int&gt; | Y &lt;int&gt; | Z &lt;int&gt; |\n|---|---|---|---|---|\n| 1 | 8/17/2023 13:00 | 0 | 0 | 0 |\n| 2 | 8/17/2023 13:00 | 0 | 0 | 0 |\n| 3 | 8/17/2023 13:00 | 0 | 0 | 0 |\n| 4 | 8/17/2023 13:00 | 0 | 0 | 0 |\n| 5 | 8/17/2023 13:00 | 0 | 0 | 0 |\n| 6 | 8/17/2023 13:00 | 0 | 0 | 0 |\n\n",
            "text/latex": "A data.frame: 6 × 4\n\\begin{tabular}{r|llll}\n  & TIME & X & Y & Z\\\\\n  & <chr> & <int> & <int> & <int>\\\\\n\\hline\n\t1 & 8/17/2023 13:00 & 0 & 0 & 0\\\\\n\t2 & 8/17/2023 13:00 & 0 & 0 & 0\\\\\n\t3 & 8/17/2023 13:00 & 0 & 0 & 0\\\\\n\t4 & 8/17/2023 13:00 & 0 & 0 & 0\\\\\n\t5 & 8/17/2023 13:00 & 0 & 0 & 0\\\\\n\t6 & 8/17/2023 13:00 & 0 & 0 & 0\\\\\n\\end{tabular}\n",
            "text/plain": [
              "  TIME            X Y Z\n",
              "1 8/17/2023 13:00 0 0 0\n",
              "2 8/17/2023 13:00 0 0 0\n",
              "3 8/17/2023 13:00 0 0 0\n",
              "4 8/17/2023 13:00 0 0 0\n",
              "5 8/17/2023 13:00 0 0 0\n",
              "6 8/17/2023 13:00 0 0 0"
            ]
          },
          "metadata": {}
        },
        {
          "output_type": "display_data",
          "data": {
            "text/html": [
              "<table class=\"dataframe\">\n",
              "<caption>A data.frame: 6 × 4</caption>\n",
              "<thead>\n",
              "\t<tr><th></th><th scope=col>TIME</th><th scope=col>X</th><th scope=col>Y</th><th scope=col>Z</th></tr>\n",
              "\t<tr><th></th><th scope=col>&lt;chr&gt;</th><th scope=col>&lt;int&gt;</th><th scope=col>&lt;int&gt;</th><th scope=col>&lt;int&gt;</th></tr>\n",
              "</thead>\n",
              "<tbody>\n",
              "\t<tr><th scope=row>1</th><td>8/17/2023 13:00</td><td>0</td><td>0</td><td>0</td></tr>\n",
              "\t<tr><th scope=row>2</th><td>8/17/2023 13:00</td><td>0</td><td>0</td><td>0</td></tr>\n",
              "\t<tr><th scope=row>3</th><td>8/17/2023 13:00</td><td>0</td><td>0</td><td>0</td></tr>\n",
              "\t<tr><th scope=row>4</th><td>8/17/2023 13:00</td><td>0</td><td>0</td><td>0</td></tr>\n",
              "\t<tr><th scope=row>5</th><td>8/17/2023 13:00</td><td>0</td><td>0</td><td>0</td></tr>\n",
              "\t<tr><th scope=row>6</th><td>8/17/2023 13:00</td><td>0</td><td>0</td><td>0</td></tr>\n",
              "</tbody>\n",
              "</table>\n"
            ],
            "text/markdown": "\nA data.frame: 6 × 4\n\n| <!--/--> | TIME &lt;chr&gt; | X &lt;int&gt; | Y &lt;int&gt; | Z &lt;int&gt; |\n|---|---|---|---|---|\n| 1 | 8/17/2023 13:00 | 0 | 0 | 0 |\n| 2 | 8/17/2023 13:00 | 0 | 0 | 0 |\n| 3 | 8/17/2023 13:00 | 0 | 0 | 0 |\n| 4 | 8/17/2023 13:00 | 0 | 0 | 0 |\n| 5 | 8/17/2023 13:00 | 0 | 0 | 0 |\n| 6 | 8/17/2023 13:00 | 0 | 0 | 0 |\n\n",
            "text/latex": "A data.frame: 6 × 4\n\\begin{tabular}{r|llll}\n  & TIME & X & Y & Z\\\\\n  & <chr> & <int> & <int> & <int>\\\\\n\\hline\n\t1 & 8/17/2023 13:00 & 0 & 0 & 0\\\\\n\t2 & 8/17/2023 13:00 & 0 & 0 & 0\\\\\n\t3 & 8/17/2023 13:00 & 0 & 0 & 0\\\\\n\t4 & 8/17/2023 13:00 & 0 & 0 & 0\\\\\n\t5 & 8/17/2023 13:00 & 0 & 0 & 0\\\\\n\t6 & 8/17/2023 13:00 & 0 & 0 & 0\\\\\n\\end{tabular}\n",
            "text/plain": [
              "  TIME            X Y Z\n",
              "1 8/17/2023 13:00 0 0 0\n",
              "2 8/17/2023 13:00 0 0 0\n",
              "3 8/17/2023 13:00 0 0 0\n",
              "4 8/17/2023 13:00 0 0 0\n",
              "5 8/17/2023 13:00 0 0 0\n",
              "6 8/17/2023 13:00 0 0 0"
            ]
          },
          "metadata": {}
        },
        {
          "output_type": "display_data",
          "data": {
            "text/html": [
              "<table class=\"dataframe\">\n",
              "<caption>A data.frame: 6 × 4</caption>\n",
              "<thead>\n",
              "\t<tr><th></th><th scope=col>TIME</th><th scope=col>X</th><th scope=col>Y</th><th scope=col>Z</th></tr>\n",
              "\t<tr><th></th><th scope=col>&lt;chr&gt;</th><th scope=col>&lt;dbl&gt;</th><th scope=col>&lt;dbl&gt;</th><th scope=col>&lt;dbl&gt;</th></tr>\n",
              "</thead>\n",
              "<tbody>\n",
              "\t<tr><th scope=row>1</th><td>8/17/2023 13:00</td><td>-0.051</td><td>-0.047</td><td>-0.957</td></tr>\n",
              "\t<tr><th scope=row>2</th><td>8/17/2023 13:00</td><td>-0.020</td><td>-0.055</td><td>-0.953</td></tr>\n",
              "\t<tr><th scope=row>3</th><td>8/17/2023 13:00</td><td>-0.023</td><td>-0.051</td><td>-0.953</td></tr>\n",
              "\t<tr><th scope=row>4</th><td>8/17/2023 13:00</td><td>-0.016</td><td>-0.051</td><td>-0.949</td></tr>\n",
              "\t<tr><th scope=row>5</th><td>8/17/2023 13:00</td><td>-0.023</td><td>-0.051</td><td>-0.953</td></tr>\n",
              "\t<tr><th scope=row>6</th><td>8/17/2023 13:00</td><td>-0.020</td><td>-0.051</td><td>-0.953</td></tr>\n",
              "</tbody>\n",
              "</table>\n"
            ],
            "text/markdown": "\nA data.frame: 6 × 4\n\n| <!--/--> | TIME &lt;chr&gt; | X &lt;dbl&gt; | Y &lt;dbl&gt; | Z &lt;dbl&gt; |\n|---|---|---|---|---|\n| 1 | 8/17/2023 13:00 | -0.051 | -0.047 | -0.957 |\n| 2 | 8/17/2023 13:00 | -0.020 | -0.055 | -0.953 |\n| 3 | 8/17/2023 13:00 | -0.023 | -0.051 | -0.953 |\n| 4 | 8/17/2023 13:00 | -0.016 | -0.051 | -0.949 |\n| 5 | 8/17/2023 13:00 | -0.023 | -0.051 | -0.953 |\n| 6 | 8/17/2023 13:00 | -0.020 | -0.051 | -0.953 |\n\n",
            "text/latex": "A data.frame: 6 × 4\n\\begin{tabular}{r|llll}\n  & TIME & X & Y & Z\\\\\n  & <chr> & <dbl> & <dbl> & <dbl>\\\\\n\\hline\n\t1 & 8/17/2023 13:00 & -0.051 & -0.047 & -0.957\\\\\n\t2 & 8/17/2023 13:00 & -0.020 & -0.055 & -0.953\\\\\n\t3 & 8/17/2023 13:00 & -0.023 & -0.051 & -0.953\\\\\n\t4 & 8/17/2023 13:00 & -0.016 & -0.051 & -0.949\\\\\n\t5 & 8/17/2023 13:00 & -0.023 & -0.051 & -0.953\\\\\n\t6 & 8/17/2023 13:00 & -0.020 & -0.051 & -0.953\\\\\n\\end{tabular}\n",
            "text/plain": [
              "  TIME            X      Y      Z     \n",
              "1 8/17/2023 13:00 -0.051 -0.047 -0.957\n",
              "2 8/17/2023 13:00 -0.020 -0.055 -0.953\n",
              "3 8/17/2023 13:00 -0.023 -0.051 -0.953\n",
              "4 8/17/2023 13:00 -0.016 -0.051 -0.949\n",
              "5 8/17/2023 13:00 -0.023 -0.051 -0.953\n",
              "6 8/17/2023 13:00 -0.020 -0.051 -0.953"
            ]
          },
          "metadata": {}
        },
        {
          "output_type": "display_data",
          "data": {
            "text/html": [
              "<table class=\"dataframe\">\n",
              "<caption>A data.frame: 6 × 4</caption>\n",
              "<thead>\n",
              "\t<tr><th></th><th scope=col>TIME</th><th scope=col>X</th><th scope=col>Y</th><th scope=col>Z</th></tr>\n",
              "\t<tr><th></th><th scope=col>&lt;chr&gt;</th><th scope=col>&lt;dbl&gt;</th><th scope=col>&lt;dbl&gt;</th><th scope=col>&lt;dbl&gt;</th></tr>\n",
              "</thead>\n",
              "<tbody>\n",
              "\t<tr><th scope=row>1</th><td>8/17/2023 13:00</td><td>0.020</td><td>-0.020</td><td>-0.980</td></tr>\n",
              "\t<tr><th scope=row>2</th><td>8/17/2023 13:00</td><td>0.043</td><td>-0.035</td><td>-0.973</td></tr>\n",
              "\t<tr><th scope=row>3</th><td>8/17/2023 13:00</td><td>0.047</td><td>-0.035</td><td>-0.965</td></tr>\n",
              "\t<tr><th scope=row>4</th><td>8/17/2023 13:00</td><td>0.055</td><td>-0.027</td><td>-0.969</td></tr>\n",
              "\t<tr><th scope=row>5</th><td>8/17/2023 13:00</td><td>0.051</td><td>-0.027</td><td>-0.969</td></tr>\n",
              "\t<tr><th scope=row>6</th><td>8/17/2023 13:00</td><td>0.055</td><td>-0.027</td><td>-0.965</td></tr>\n",
              "</tbody>\n",
              "</table>\n"
            ],
            "text/markdown": "\nA data.frame: 6 × 4\n\n| <!--/--> | TIME &lt;chr&gt; | X &lt;dbl&gt; | Y &lt;dbl&gt; | Z &lt;dbl&gt; |\n|---|---|---|---|---|\n| 1 | 8/17/2023 13:00 | 0.020 | -0.020 | -0.980 |\n| 2 | 8/17/2023 13:00 | 0.043 | -0.035 | -0.973 |\n| 3 | 8/17/2023 13:00 | 0.047 | -0.035 | -0.965 |\n| 4 | 8/17/2023 13:00 | 0.055 | -0.027 | -0.969 |\n| 5 | 8/17/2023 13:00 | 0.051 | -0.027 | -0.969 |\n| 6 | 8/17/2023 13:00 | 0.055 | -0.027 | -0.965 |\n\n",
            "text/latex": "A data.frame: 6 × 4\n\\begin{tabular}{r|llll}\n  & TIME & X & Y & Z\\\\\n  & <chr> & <dbl> & <dbl> & <dbl>\\\\\n\\hline\n\t1 & 8/17/2023 13:00 & 0.020 & -0.020 & -0.980\\\\\n\t2 & 8/17/2023 13:00 & 0.043 & -0.035 & -0.973\\\\\n\t3 & 8/17/2023 13:00 & 0.047 & -0.035 & -0.965\\\\\n\t4 & 8/17/2023 13:00 & 0.055 & -0.027 & -0.969\\\\\n\t5 & 8/17/2023 13:00 & 0.051 & -0.027 & -0.969\\\\\n\t6 & 8/17/2023 13:00 & 0.055 & -0.027 & -0.965\\\\\n\\end{tabular}\n",
            "text/plain": [
              "  TIME            X     Y      Z     \n",
              "1 8/17/2023 13:00 0.020 -0.020 -0.980\n",
              "2 8/17/2023 13:00 0.043 -0.035 -0.973\n",
              "3 8/17/2023 13:00 0.047 -0.035 -0.965\n",
              "4 8/17/2023 13:00 0.055 -0.027 -0.969\n",
              "5 8/17/2023 13:00 0.051 -0.027 -0.969\n",
              "6 8/17/2023 13:00 0.055 -0.027 -0.965"
            ]
          },
          "metadata": {}
        }
      ]
    },
    {
      "cell_type": "markdown",
      "source": [
        "Calculate the vector magnitude for the 1Hz and 30Hz data for each side (left/right)"
      ],
      "metadata": {
        "id": "VQdbsVoeY-Xt"
      }
    },
    {
      "cell_type": "code",
      "source": [
        "L_1Hz$LVM <- sqrt(L_1Hz$X^2 + L_1Hz$Y^2 + L_1Hz$Z^2)\n",
        "R_1Hz$RVM <- sqrt(R_1Hz$X^2 + R_1Hz$Y^2 + R_1Hz$Z^2)\n",
        "\n",
        "L_30Hz$LVM <-sqrt(L_30Hz$X^2 + L_30Hz$Y^2 + L_30Hz$Z^2 )\n",
        "R_30Hz$RVM <-sqrt(R_30Hz$X^2 + R_30Hz$Y^2 + R_30Hz$Z^2 )\n"
      ],
      "metadata": {
        "id": "DLB8mFpvEJpO",
        "collapsed": true
      },
      "execution_count": 46,
      "outputs": []
    },
    {
      "cell_type": "markdown",
      "source": [
        "Filtering the 30 Hz data:"
      ],
      "metadata": {
        "id": "qBDg4sZhxv32"
      }
    },
    {
      "cell_type": "code",
      "source": [
        "bf <- butter(2, c(I(.2/15),I(12/15)), type=\"pass\")\n",
        "L_30Hz$LVM<- filtfilt(x=L_30Hz$LVM, filt = bf)\n",
        "R_30Hz$RVM<- filtfilt(x=R_30Hz$RVM, filt = bf)"
      ],
      "metadata": {
        "id": "OMWZpdYQxuvH"
      },
      "execution_count": 47,
      "outputs": []
    },
    {
      "cell_type": "markdown",
      "source": [
        "Merging data from the left and right sensor into one data frame to make things easier:"
      ],
      "metadata": {
        "id": "C0nbkNUliPbR"
      }
    },
    {
      "cell_type": "code",
      "source": [
        "AccelData_1Hz <- data.frame(L_1Hz, RVMData = R_1Hz$RVM)\n",
        "head(AccelData_1Hz)\n",
        "\n",
        "AccelData_30Hz <- data.frame(L_30Hz, RVM = R_30Hz$RVM)\n",
        "head(AccelData_30Hz)"
      ],
      "metadata": {
        "colab": {
          "base_uri": "https://localhost:8080/",
          "height": 555
        },
        "id": "FtxHpNM7uIki",
        "outputId": "ab8666a5-f596-46a4-fb95-6a840875fd7a",
        "collapsed": true
      },
      "execution_count": 48,
      "outputs": [
        {
          "output_type": "display_data",
          "data": {
            "text/html": [
              "<table class=\"dataframe\">\n",
              "<caption>A data.frame: 6 × 6</caption>\n",
              "<thead>\n",
              "\t<tr><th></th><th scope=col>TIME</th><th scope=col>X</th><th scope=col>Y</th><th scope=col>Z</th><th scope=col>LVM</th><th scope=col>RVMData</th></tr>\n",
              "\t<tr><th></th><th scope=col>&lt;chr&gt;</th><th scope=col>&lt;int&gt;</th><th scope=col>&lt;int&gt;</th><th scope=col>&lt;int&gt;</th><th scope=col>&lt;dbl&gt;</th><th scope=col>&lt;dbl&gt;</th></tr>\n",
              "</thead>\n",
              "<tbody>\n",
              "\t<tr><th scope=row>1</th><td>8/17/2023 13:00</td><td>0</td><td>0</td><td>0</td><td>0</td><td>0</td></tr>\n",
              "\t<tr><th scope=row>2</th><td>8/17/2023 13:00</td><td>0</td><td>0</td><td>0</td><td>0</td><td>0</td></tr>\n",
              "\t<tr><th scope=row>3</th><td>8/17/2023 13:00</td><td>0</td><td>0</td><td>0</td><td>0</td><td>0</td></tr>\n",
              "\t<tr><th scope=row>4</th><td>8/17/2023 13:00</td><td>0</td><td>0</td><td>0</td><td>0</td><td>0</td></tr>\n",
              "\t<tr><th scope=row>5</th><td>8/17/2023 13:00</td><td>0</td><td>0</td><td>0</td><td>0</td><td>0</td></tr>\n",
              "\t<tr><th scope=row>6</th><td>8/17/2023 13:00</td><td>0</td><td>0</td><td>0</td><td>0</td><td>0</td></tr>\n",
              "</tbody>\n",
              "</table>\n"
            ],
            "text/markdown": "\nA data.frame: 6 × 6\n\n| <!--/--> | TIME &lt;chr&gt; | X &lt;int&gt; | Y &lt;int&gt; | Z &lt;int&gt; | LVM &lt;dbl&gt; | RVMData &lt;dbl&gt; |\n|---|---|---|---|---|---|---|\n| 1 | 8/17/2023 13:00 | 0 | 0 | 0 | 0 | 0 |\n| 2 | 8/17/2023 13:00 | 0 | 0 | 0 | 0 | 0 |\n| 3 | 8/17/2023 13:00 | 0 | 0 | 0 | 0 | 0 |\n| 4 | 8/17/2023 13:00 | 0 | 0 | 0 | 0 | 0 |\n| 5 | 8/17/2023 13:00 | 0 | 0 | 0 | 0 | 0 |\n| 6 | 8/17/2023 13:00 | 0 | 0 | 0 | 0 | 0 |\n\n",
            "text/latex": "A data.frame: 6 × 6\n\\begin{tabular}{r|llllll}\n  & TIME & X & Y & Z & LVM & RVMData\\\\\n  & <chr> & <int> & <int> & <int> & <dbl> & <dbl>\\\\\n\\hline\n\t1 & 8/17/2023 13:00 & 0 & 0 & 0 & 0 & 0\\\\\n\t2 & 8/17/2023 13:00 & 0 & 0 & 0 & 0 & 0\\\\\n\t3 & 8/17/2023 13:00 & 0 & 0 & 0 & 0 & 0\\\\\n\t4 & 8/17/2023 13:00 & 0 & 0 & 0 & 0 & 0\\\\\n\t5 & 8/17/2023 13:00 & 0 & 0 & 0 & 0 & 0\\\\\n\t6 & 8/17/2023 13:00 & 0 & 0 & 0 & 0 & 0\\\\\n\\end{tabular}\n",
            "text/plain": [
              "  TIME            X Y Z LVM RVMData\n",
              "1 8/17/2023 13:00 0 0 0 0   0      \n",
              "2 8/17/2023 13:00 0 0 0 0   0      \n",
              "3 8/17/2023 13:00 0 0 0 0   0      \n",
              "4 8/17/2023 13:00 0 0 0 0   0      \n",
              "5 8/17/2023 13:00 0 0 0 0   0      \n",
              "6 8/17/2023 13:00 0 0 0 0   0      "
            ]
          },
          "metadata": {}
        },
        {
          "output_type": "display_data",
          "data": {
            "text/html": [
              "<table class=\"dataframe\">\n",
              "<caption>A data.frame: 6 × 6</caption>\n",
              "<thead>\n",
              "\t<tr><th></th><th scope=col>TIME</th><th scope=col>X</th><th scope=col>Y</th><th scope=col>Z</th><th scope=col>LVM</th><th scope=col>RVM</th></tr>\n",
              "\t<tr><th></th><th scope=col>&lt;chr&gt;</th><th scope=col>&lt;dbl&gt;</th><th scope=col>&lt;dbl&gt;</th><th scope=col>&lt;dbl&gt;</th><th scope=col>&lt;dbl&gt;</th><th scope=col>&lt;dbl&gt;</th></tr>\n",
              "</thead>\n",
              "<tbody>\n",
              "\t<tr><th scope=row>1</th><td>8/17/2023 13:00</td><td>-0.051</td><td>-0.047</td><td>-0.957</td><td>0.3721961</td><td>0.3842429</td></tr>\n",
              "\t<tr><th scope=row>2</th><td>8/17/2023 13:00</td><td>-0.020</td><td>-0.055</td><td>-0.953</td><td>0.5372063</td><td>0.5494762</td></tr>\n",
              "\t<tr><th scope=row>3</th><td>8/17/2023 13:00</td><td>-0.023</td><td>-0.051</td><td>-0.953</td><td>0.3923176</td><td>0.3969026</td></tr>\n",
              "\t<tr><th scope=row>4</th><td>8/17/2023 13:00</td><td>-0.016</td><td>-0.051</td><td>-0.949</td><td>0.4481666</td><td>0.4596072</td></tr>\n",
              "\t<tr><th scope=row>5</th><td>8/17/2023 13:00</td><td>-0.023</td><td>-0.051</td><td>-0.953</td><td>0.4076380</td><td>0.4157603</td></tr>\n",
              "\t<tr><th scope=row>6</th><td>8/17/2023 13:00</td><td>-0.020</td><td>-0.051</td><td>-0.953</td><td>0.3991257</td><td>0.4026779</td></tr>\n",
              "</tbody>\n",
              "</table>\n"
            ],
            "text/markdown": "\nA data.frame: 6 × 6\n\n| <!--/--> | TIME &lt;chr&gt; | X &lt;dbl&gt; | Y &lt;dbl&gt; | Z &lt;dbl&gt; | LVM &lt;dbl&gt; | RVM &lt;dbl&gt; |\n|---|---|---|---|---|---|---|\n| 1 | 8/17/2023 13:00 | -0.051 | -0.047 | -0.957 | 0.3721961 | 0.3842429 |\n| 2 | 8/17/2023 13:00 | -0.020 | -0.055 | -0.953 | 0.5372063 | 0.5494762 |\n| 3 | 8/17/2023 13:00 | -0.023 | -0.051 | -0.953 | 0.3923176 | 0.3969026 |\n| 4 | 8/17/2023 13:00 | -0.016 | -0.051 | -0.949 | 0.4481666 | 0.4596072 |\n| 5 | 8/17/2023 13:00 | -0.023 | -0.051 | -0.953 | 0.4076380 | 0.4157603 |\n| 6 | 8/17/2023 13:00 | -0.020 | -0.051 | -0.953 | 0.3991257 | 0.4026779 |\n\n",
            "text/latex": "A data.frame: 6 × 6\n\\begin{tabular}{r|llllll}\n  & TIME & X & Y & Z & LVM & RVM\\\\\n  & <chr> & <dbl> & <dbl> & <dbl> & <dbl> & <dbl>\\\\\n\\hline\n\t1 & 8/17/2023 13:00 & -0.051 & -0.047 & -0.957 & 0.3721961 & 0.3842429\\\\\n\t2 & 8/17/2023 13:00 & -0.020 & -0.055 & -0.953 & 0.5372063 & 0.5494762\\\\\n\t3 & 8/17/2023 13:00 & -0.023 & -0.051 & -0.953 & 0.3923176 & 0.3969026\\\\\n\t4 & 8/17/2023 13:00 & -0.016 & -0.051 & -0.949 & 0.4481666 & 0.4596072\\\\\n\t5 & 8/17/2023 13:00 & -0.023 & -0.051 & -0.953 & 0.4076380 & 0.4157603\\\\\n\t6 & 8/17/2023 13:00 & -0.020 & -0.051 & -0.953 & 0.3991257 & 0.4026779\\\\\n\\end{tabular}\n",
            "text/plain": [
              "  TIME            X      Y      Z      LVM       RVM      \n",
              "1 8/17/2023 13:00 -0.051 -0.047 -0.957 0.3721961 0.3842429\n",
              "2 8/17/2023 13:00 -0.020 -0.055 -0.953 0.5372063 0.5494762\n",
              "3 8/17/2023 13:00 -0.023 -0.051 -0.953 0.3923176 0.3969026\n",
              "4 8/17/2023 13:00 -0.016 -0.051 -0.949 0.4481666 0.4596072\n",
              "5 8/17/2023 13:00 -0.023 -0.051 -0.953 0.4076380 0.4157603\n",
              "6 8/17/2023 13:00 -0.020 -0.051 -0.953 0.3991257 0.4026779"
            ]
          },
          "metadata": {}
        }
      ]
    },
    {
      "cell_type": "markdown",
      "source": [
        "Find count values that exceed threshold (>/= 2). Values that exceed this threshold are considered time when the upper limb is moving."
      ],
      "metadata": {
        "id": "la0XWzMGl8d2"
      }
    },
    {
      "cell_type": "code",
      "source": [
        "Threshold <- 2\n",
        "LCount <- which(AccelData_1Hz$LVM >= Threshold)\n",
        "RCount <- which(AccelData_1Hz$RVM >= Threshold)"
      ],
      "metadata": {
        "id": "Z45x0rH1kN9r"
      },
      "execution_count": 49,
      "outputs": []
    },
    {
      "cell_type": "markdown",
      "source": [
        "Calculate wear time, LTime (time in which left upper limb is moving), and RTime (time in which right upper limb is moving)"
      ],
      "metadata": {
        "id": "iCvRxxc9mMAF"
      }
    },
    {
      "cell_type": "code",
      "source": [
        "WearTime <- round((nrow(AccelData_1Hz)/60), 0) #Wearing times in minutes, as integer\n",
        "WearTime\n",
        "LTime <- ((length(LCount)/60/WearTime))\n",
        "RTime <- ((length(RCount)/60/WearTime))\n",
        "LTime\n",
        "RTime"
      ],
      "metadata": {
        "colab": {
          "base_uri": "https://localhost:8080/",
          "height": 69
        },
        "id": "tYpRalHjmLP1",
        "outputId": "db5f4bfc-ebf4-4d47-e607-4d5d5322cd89",
        "collapsed": true
      },
      "execution_count": 50,
      "outputs": [
        {
          "output_type": "display_data",
          "data": {
            "text/html": [
              "1440"
            ],
            "text/markdown": "1440",
            "text/latex": "1440",
            "text/plain": [
              "[1] 1440"
            ]
          },
          "metadata": {}
        },
        {
          "output_type": "display_data",
          "data": {
            "text/html": [
              "0.0415393518518519"
            ],
            "text/markdown": "0.0415393518518519",
            "text/latex": "0.0415393518518519",
            "text/plain": [
              "[1] 0.04153935"
            ]
          },
          "metadata": {}
        },
        {
          "output_type": "display_data",
          "data": {
            "text/html": [
              "0.278530092592593"
            ],
            "text/markdown": "0.278530092592593",
            "text/latex": "0.278530092592593",
            "text/plain": [
              "[1] 0.2785301"
            ]
          },
          "metadata": {}
        }
      ]
    },
    {
      "cell_type": "markdown",
      "source": [
        "Enter the participant's affected side. The participant's affected side is the right (\"R\"), so we'll enter \"R\" in the code below. Then, calculate the use ratio as the time the affected side is moving divided by the time the unaffected side is moving. Use ratio values in neurotypical individuals tend to be ~1, indicating approximately equal use of the left and right upper limbs. Use ratio values tend to be lower in individuals with an affected upper limb (e.g., after stroke), indicating less use of the affected upper limb compared to the unaffected upper limb."
      ],
      "metadata": {
        "id": "uiiusJS860_x"
      }
    },
    {
      "cell_type": "code",
      "source": [
        "#Enter the participant's affected side (either \"R\" or \"L\")\n",
        "AffSide <- as.character(\"R\")\n",
        "\n",
        "if (AffSide == \"L\") {\n",
        " UseRatio <- round(LTime/RTime, 3)\n",
        "} else {\n",
        " UseRatio <- round(RTime/LTime, 3)\n",
        "}\n",
        "\n",
        "print(UseRatio)"
      ],
      "metadata": {
        "colab": {
          "base_uri": "https://localhost:8080/"
        },
        "id": "4X4pnPSIka5y",
        "outputId": "7eb2b2f8-0729-46b0-8ed4-7fb901d39516",
        "collapsed": true
      },
      "execution_count": 51,
      "outputs": [
        {
          "output_type": "stream",
          "name": "stdout",
          "text": [
            "[1] 6.705\n"
          ]
        }
      ]
    },
    {
      "cell_type": "markdown",
      "source": [
        "This is a really high use ratio value. Let's plot the accelerations from the 30Hz data file over time to take a closer look. In the plot, data from the left sensor are shown in red, and data from the right sensor are shown in black."
      ],
      "metadata": {
        "id": "0z-9FofPZD1M"
      }
    },
    {
      "cell_type": "code",
      "source": [
        "ylabel <- expression(Acceleration ~ (m/s^2))\n",
        "\n",
        "ggplot(data = AccelData_30Hz, aes(x = TIME)) + geom_line(aes(y = RVM), linewidth = 1, colour = \"black\") +\n",
        "  ylab(ylabel) + xlab(\"Time (seconds)\") + theme(panel.grid.minor = element_blank()) +\n",
        "  geom_line(aes(y = LVM), linewidth = 1, colour = \"red\") +\n",
        "  theme(axis.text = element_blank(), axis.title.y = element_text(size = 20),\n",
        "        axis.title.x = element_text(size = 20))"
      ],
      "metadata": {
        "colab": {
          "base_uri": "https://localhost:8080/",
          "height": 437
        },
        "id": "et76s7cu1Ck8",
        "outputId": "47dfad10-be08-4dc8-f2d3-45c951197a7c",
        "collapsed": true
      },
      "execution_count": 52,
      "outputs": [
        {
          "output_type": "display_data",
          "data": {
            "text/plain": [
              "plot without title"
            ],
            "image/png": "[encoded data removed]"
          },
          "metadata": {
            "image/png": {
              "width": 420,
              "height": 420
            }
          }
        }
      ]
    },
    {
      "cell_type": "markdown",
      "source": [
        "The plot shows greater accelerations on the right sensor (shown in black) and lower accelerations on the left sensor (shown in red). This is odd, because the participant's affected side is the right side, so we would expect lower (not greater) accelerations on the affected right side. What could have happened? Let's try another form of visualization to see if we can figure it out."
      ],
      "metadata": {
        "id": "1quWIU_g7cIS"
      }
    },
    {
      "cell_type": "markdown",
      "source": [
        "Let's plot this participant's use ratio value (6.705) compared to the use ratio of other participant data that have been processed. To do this, we'll read in a data file called 'ReferentData.csv' that contains use ratio values from other participants with stroke."
      ],
      "metadata": {
        "id": "FZTkaTBRZFad"
      }
    },
    {
      "cell_type": "code",
      "source": [
        "HarmonizedData <- read.csv('/ReferentData.csv')\n",
        "\n",
        "FigureData <- HarmonizedData %>% select(SubIDName, TimePoint, Day, use_ratio)\n",
        "\n",
        "FigureData <- FigureData %>% dplyr::filter(TimePoint == \"baseline\")\n",
        "\n",
        "FigureData <- FigureData %>% group_by(SubIDName) %>%\n",
        "  summarise(UseRatio = mean(use_ratio))\n",
        "FigureData$ID <- 1:length(FigureData$SubIDName)\n",
        "FigureData$DataSource <- rep(\"Ref\")\n",
        "FigureData[51, 4] <- \"Processed Data Point\"\n",
        "\n",
        "ggplot(data = FigureData, aes(x = ID, y = UseRatio)) + geom_boxplot(fill = \"lightblue\", outlier.size =4,\n",
        "       lwd = 1) +\n",
        "  geom_point(aes(x = ID), size = 4, subset(FigureData, UseRatio <2)) + theme(panel.grid.minor = element_blank(),\n",
        "  panel.grid.major = element_blank(), axis.title.x = element_blank(),\n",
        "  axis.text.x = element_blank(), axis.title.y = element_text(size = 25, face = \"bold\",\n",
        "                                                             margin = margin(t = 0, r = 20, b = 0, l = 0)),\n",
        "  axis.text.y = element_text(size = 20, face = \"bold\")) +\n",
        "  geom_text(data = FigureData %>% dplyr::filter(DataSource == \"Processed Data Point\"),\n",
        "                                 aes(ID, UseRatio, label = DataSource), hjust = 3, size = 8)"
      ],
      "metadata": {
        "colab": {
          "base_uri": "https://localhost:8080/",
          "height": 489
        },
        "id": "A6JQ8tm95BlS",
        "outputId": "f860a1f2-c31b-46df-aba0-1d8612a817b1"
      },
      "execution_count": 53,
      "outputs": [
        {
          "output_type": "stream",
          "name": "stderr",
          "text": [
            "Warning message:\n",
            "“\u001b[1m\u001b[22mContinuous \u001b[32mx\u001b[39m aesthetic\n",
            "\u001b[36mℹ\u001b[39m did you forget `aes(group = ...)`?”\n"
          ]
        },
        {
          "output_type": "display_data",
          "data": {
            "text/plain": [
              "plot without title"
            ],
            "image/png": "[encoded data removed]"
          },
          "metadata": {
            "image/png": {
              "width": 420,
              "height": 420
            }
          }
        }
      ]
    },
    {
      "cell_type": "markdown",
      "source": [
        "This participant's use ratio value is much higher than the use ratio values of other participants. This could happen if the participant wore the sensors on the wrong sides (i.e., the left sensor was worn on the right wrist and vice-versa) or if the data files were labeled incorrectly (i.e., data from the left sensor was labeled as data from the right sensor and vice-versa). Visualizing the data helped us catch this and avoid a potential error in our analyses!"
      ],
      "metadata": {
        "id": "KZEVCPNQ_MXN"
      }
    }
  ]
}